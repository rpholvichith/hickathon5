{
 "cells": [
  {
   "cell_type": "code",
   "execution_count": 1,
   "metadata": {},
   "outputs": [],
   "source": [
    "# Mandatory operation for importing custom libraries\n",
    "from pathlib import Path\n",
    "import sys\n",
    "\n",
    "cwd = Path.cwd()\n",
    "base = cwd.parent\n",
    "sys.path.append(str(base))"
   ]
  },
  {
   "cell_type": "code",
   "execution_count": 2,
   "metadata": {},
   "outputs": [
    {
     "name": "stdout",
     "output_type": "stream",
     "text": [
      "c:\\Users\\User\\Desktop\\Hi!ckathon\\hickathon5\\data\n"
     ]
    }
   ],
   "source": [
    "# Testing FileManager\n",
    "from file_manager.file_manager import FileManager\n",
    "\n",
    "file_manager = FileManager()\n",
    "print(file_manager.data_folder)"
   ]
  },
  {
   "cell_type": "code",
   "execution_count": 3,
   "metadata": {},
   "outputs": [],
   "source": [
    "import pandas as pd\n",
    "import warnings\n",
    "\n",
    "pd.set_option('display.max_rows', 500)\n",
    "pd.set_option('display.max_columns', 500)\n",
    "warnings.filterwarnings(\"ignore\")"
   ]
  },
  {
   "cell_type": "code",
   "execution_count": 4,
   "metadata": {},
   "outputs": [],
   "source": [
    "train_data = file_manager.load_training_data()\n",
    "test_data = file_manager.load_test_data()"
   ]
  },
  {
   "cell_type": "markdown",
   "metadata": {},
   "source": [
    "# Util functions"
   ]
  },
  {
   "cell_type": "code",
   "execution_count": 5,
   "metadata": {},
   "outputs": [],
   "source": [
    "# utils.py\n",
    "\n",
    "import matplotlib.pyplot as plt\n",
    "import seaborn as sns\n",
    "\n",
    "# 1 : Plotting\n",
    "\n",
    "def plot_variable(df, variable, plot_type='hist', **kwargs):\n",
    "    \"\"\"\n",
    "    Plot a variable from a DataFrame with customizable plot type.\n",
    "\n",
    "    Parameters:\n",
    "    - df (pd.DataFrame): The dataset.\n",
    "    - variable (str): The column name of the variable to plot.\n",
    "    - plot_type (str): The type of plot ('hist', 'line', 'scatter', 'box', etc.).\n",
    "    - **kwargs: Additional keyword arguments for customization.\n",
    "\n",
    "    Returns:\n",
    "    - None: Displays the plot.\n",
    "    \"\"\"\n",
    "    plt.figure(figsize=kwargs.get('figsize', (10, 6)))\n",
    "    title = kwargs.get('title', f\"Plot of {variable}\")\n",
    "\n",
    "    if plot_type == 'hist':\n",
    "        sns.histplot(df[variable], kde=kwargs.get('kde', True), bins=kwargs.get('bins', 30), color=kwargs.get('color', 'blue'))\n",
    "    elif plot_type == 'line':\n",
    "        plt.plot(df[variable], color=kwargs.get('color', 'blue'), label=kwargs.get('label', variable))\n",
    "        plt.legend()\n",
    "    elif plot_type == 'scatter':\n",
    "        x = kwargs.get('x')\n",
    "        if x is None:\n",
    "            raise ValueError(\"For scatter plot, 'x' must be specified as a column name.\")\n",
    "        sns.scatterplot(x=df[x], y=df[variable], color=kwargs.get('color', 'blue'))\n",
    "    elif plot_type == 'box':\n",
    "        sns.boxplot(x=df[variable], color=kwargs.get('color', 'blue'))\n",
    "    else:\n",
    "        raise ValueError(f\"Unsupported plot type: {plot_type}\")\n",
    "\n",
    "    plt.title(title, fontsize=kwargs.get('title_fontsize', 16))\n",
    "    plt.xlabel(kwargs.get('xlabel', variable), fontsize=kwargs.get('label_fontsize', 14))\n",
    "    plt.ylabel(kwargs.get('ylabel', 'Frequency' if plot_type == 'hist' else ''), fontsize=kwargs.get('label_fontsize', 14))\n",
    "    plt.grid(kwargs.get('grid', True))\n",
    "    plt.show()\n",
    "\n",
    "\n",
    "# 2 : Processing\n",
    "\n",
    "def column_filler(df, col, type=None):\n",
    "    \"\"\"\n",
    "    Fills missing values in a specified column of a DataFrame based on its data type and a chosen method.\n",
    "\n",
    "    Parameters:\n",
    "    - df (pd.DataFrame): The DataFrame containing the column to fill.\n",
    "    - col (str): The name of the column to process.\n",
    "    - type (str, optional): The filling method. Options:\n",
    "        - 'mean' (default): Fill missing values with the column's mean (for numerical columns).\n",
    "        - 'median': Fill missing values with the column's median (for numerical columns).\n",
    "        - For object-type columns, the mode is used by default.\n",
    "\n",
    "    Behavior:\n",
    "    - If the column is numeric (int64 or float64):\n",
    "        - Default ('mean'): Fills missing values with the mean of the column.\n",
    "        - If 'median' is specified, fills missing values with the median.\n",
    "        - If an unsupported method is provided, raises a ValueError.\n",
    "    - If the column is of type 'object' (e.g., strings):\n",
    "        - Fills missing values with the most frequent value (mode).\n",
    "    - If the column's data type is unsupported, raises a ValueError.\n",
    "    \"\"\"\n",
    "    if df[col].dtype in ['int64', 'float64']:\n",
    "        if type is None or type == 'mean':\n",
    "            df[col].fillna(df[col].mean(), inplace=True)  # Replace NaN with the mean\n",
    "\n",
    "        elif type == 'median':\n",
    "            df[col].fillna(df[col].median(), inplace=True)  # Replace NaN with the median\n",
    "\n",
    "        else:\n",
    "            raise ValueError(f\"Unsupported method: {type}\")\n",
    "\n",
    "    elif df[col].dtype == 'object':\n",
    "        df[col].fillna(df[col].mode()[0], inplace=True)  # Replace NaN with the most frequent value (mode)\n",
    "\n",
    "    else:\n",
    "        raise ValueError(f\"Unsupported data type: {df[col].dtype}\")\n",
    "\n",
    "\n",
    "def separate_col(df, list):\n",
    "    categorical_variables = []\n",
    "    continuous_variables = []\n",
    "    for col in list:\n",
    "        if df[col].dtype in ['int64', 'float64']:\n",
    "            continuous_variables.append(col)\n",
    "\n",
    "        elif df[col].dtype == 'object':\n",
    "            categorical_variables.append(col)\n",
    "\n",
    "        else:\n",
    "            raise ValueError(f\"Unsupported data type: {df[col].dtype}\")\n",
    "\n",
    "    return categorical_variables, continuous_variables\n",
    "\n",
    "\n",
    "# 3. Variable Analysis\n",
    "\n",
    "def compare(df, var1, var2):\n",
    "    # Check if each value in var1 is associated with a unique value in var2\n",
    "    unique_var1_to_var2 = df.groupby(var1)[var2].nunique()\n",
    "    if (unique_var1_to_var2 == 1).all():\n",
    "        print(f\"Each value in {var1} is associated with a unique identifier in {var2}.\")\n",
    "    else:\n",
    "        print(f\"Some values in {var1} are associated with multiple identifiers in {var2}:\")\n",
    "        # Print the values in var1 that have more than one unique corresponding value in var2\n",
    "        print(unique_var1_to_var2[unique_var1_to_var2 > 1])\n",
    "\n",
    "    # Check if each value in var2 is associated with a unique value in var1\n",
    "    unique_var2_to_var1 = df.groupby(var2)[var1].nunique()\n",
    "    if (unique_var2_to_var1 == 1).all():\n",
    "        print(f\"Each identifier in {var2} is associated with a single value in {var1}.\")\n",
    "    else:\n",
    "        print(f\"Some identifiers in {var2} are associated with multiple values in {var1}:\")\n",
    "        # Print the values in var2 that have more than one unique corresponding value in var1\n",
    "        print(unique_var2_to_var1[unique_var2_to_var1 > 1])"
   ]
  },
  {
   "cell_type": "markdown",
   "metadata": {},
   "source": [
    "# Metadata of the withdrawal variables"
   ]
  },
  {
   "cell_type": "code",
   "execution_count": 6,
   "metadata": {},
   "outputs": [],
   "source": [
    "# Function to extract variable category\n",
    "def extract_category(\n",
    "        df: pd.DataFrame,\n",
    "        category: str,\n",
    ") -> pd.DataFrame:\n",
    "    return df[df.columns[df.columns.str.startswith(category)]]"
   ]
  },
  {
   "cell_type": "code",
   "execution_count": 7,
   "metadata": {},
   "outputs": [],
   "source": [
    "train_data = extract_category(train_data, 'prelev')"
   ]
  },
  {
   "cell_type": "code",
   "execution_count": 11,
   "metadata": {},
   "outputs": [
    {
     "name": "stdout",
     "output_type": "stream",
     "text": [
      "<class 'pandas.core.frame.DataFrame'>\n",
      "Index: 2830316 entries, 0 to 3294084\n",
      "Data columns (total 22 columns):\n",
      " #   Column                                Dtype  \n",
      "---  ------                                -----  \n",
      " 0   prelev_structure_code_0               object \n",
      " 1   prelev_volume_0                       float64\n",
      " 2   prelev_usage_label_0                  object \n",
      " 3   prelev_volume_obtention_mode_label_0  object \n",
      " 4   prelev_longitude_0                    float64\n",
      " 5   prelev_latitude_0                     float64\n",
      " 6   prelev_commune_code_insee_0           float64\n",
      " 7   prelev_structure_code_1               object \n",
      " 8   prelev_volume_1                       float64\n",
      " 9   prelev_usage_label_1                  object \n",
      " 10  prelev_volume_obtention_mode_label_1  object \n",
      " 11  prelev_longitude_1                    float64\n",
      " 12  prelev_latitude_1                     float64\n",
      " 13  prelev_commune_code_insee_1           float64\n",
      " 14  prelev_structure_code_2               object \n",
      " 15  prelev_volume_2                       float64\n",
      " 16  prelev_usage_label_2                  object \n",
      " 17  prelev_volume_obtention_mode_label_2  object \n",
      " 18  prelev_longitude_2                    float64\n",
      " 19  prelev_latitude_2                     float64\n",
      " 20  prelev_commune_code_insee_2           float64\n",
      " 21  prelev_other_volume_sum               float64\n",
      "dtypes: float64(13), object(9)\n",
      "memory usage: 496.7+ MB\n"
     ]
    }
   ],
   "source": [
    "train_data.info(verbose=True)"
   ]
  },
  {
   "cell_type": "code",
   "execution_count": 12,
   "metadata": {},
   "outputs": [
    {
     "data": {
      "text/plain": [
       "prelev_structure_code_0                 2277547\n",
       "prelev_volume_0                         2277547\n",
       "prelev_usage_label_0                    2277547\n",
       "prelev_volume_obtention_mode_label_0    2277547\n",
       "prelev_longitude_0                      2277547\n",
       "prelev_latitude_0                       2277547\n",
       "prelev_commune_code_insee_0             2277547\n",
       "prelev_structure_code_1                 2276818\n",
       "prelev_volume_1                         2276818\n",
       "prelev_usage_label_1                    2276818\n",
       "prelev_volume_obtention_mode_label_1    2276818\n",
       "prelev_longitude_1                      2276818\n",
       "prelev_latitude_1                       2276818\n",
       "prelev_commune_code_insee_1             2276818\n",
       "prelev_structure_code_2                 2274386\n",
       "prelev_volume_2                         2274386\n",
       "prelev_usage_label_2                    2274386\n",
       "prelev_volume_obtention_mode_label_2    2274386\n",
       "prelev_longitude_2                      2274386\n",
       "prelev_latitude_2                       2274386\n",
       "prelev_commune_code_insee_2             2274386\n",
       "prelev_other_volume_sum                 2451155\n",
       "dtype: int64"
      ]
     },
     "execution_count": 12,
     "metadata": {},
     "output_type": "execute_result"
    }
   ],
   "source": [
    "train_data.count()"
   ]
  },
  {
   "cell_type": "code",
   "execution_count": 10,
   "metadata": {},
   "outputs": [
    {
     "name": "stdout",
     "output_type": "stream",
     "text": [
      "prelev_structure_code_0                          OPR0000048924\n",
      "prelev_volume_0                                  10743145235.0\n",
      "prelev_usage_label_0                    EAU TURBINEE (barrage)\n",
      "prelev_volume_obtention_mode_label_0          Mesure indirecte\n",
      "prelev_longitude_0                                    5.811394\n",
      "prelev_latitude_0                                    45.878862\n",
      "prelev_commune_code_insee_0                             1010.0\n",
      "prelev_structure_code_1                          OPR0000048938\n",
      "prelev_volume_1                                  10608280884.0\n",
      "prelev_usage_label_1                    EAU TURBINEE (barrage)\n",
      "prelev_volume_obtention_mode_label_1          Mesure indirecte\n",
      "prelev_longitude_1                                     5.83283\n",
      "prelev_latitude_1                                    45.958585\n",
      "prelev_commune_code_insee_1                             1407.0\n",
      "prelev_structure_code_2                          OPR0000048941\n",
      "prelev_volume_2                                  10380984702.0\n",
      "prelev_usage_label_2                    EAU TURBINEE (barrage)\n",
      "prelev_volume_obtention_mode_label_2          Mesure indirecte\n",
      "prelev_longitude_2                                    5.698947\n",
      "prelev_latitude_2                                    45.725106\n",
      "prelev_commune_code_insee_2                             1454.0\n",
      "prelev_other_volume_sum                           1793055303.0\n",
      "Name: 0, dtype: object\n"
     ]
    }
   ],
   "source": [
    "print(train_data.iloc[0])"
   ]
  },
  {
   "cell_type": "markdown",
   "metadata": {},
   "source": [
    "# Fill and seperate columns"
   ]
  },
  {
   "cell_type": "markdown",
   "metadata": {},
   "source": [
    "prelev_structure_code_0                          OPR0000048924\n",
    "prelev_volume_0                                  10743145235.0\n",
    "prelev_usage_label_0                    EAU TURBINEE (barrage)\n",
    "prelev_volume_obtention_mode_label_0          Mesure indirecte\n",
    "prelev_longitude_0                                    5.811394\n",
    "prelev_latitude_0                                    45.878862\n",
    "prelev_commune_code_insee_0                             1010.0\n",
    "prelev_structure_code_1                          OPR0000048938\n",
    "prelev_volume_1                                  10608280884.0\n",
    "prelev_usage_label_1                    EAU TURBINEE (barrage)\n",
    "prelev_volume_obtention_mode_label_1          Mesure indirecte\n",
    "prelev_longitude_1                                     5.83283\n",
    "prelev_latitude_1                                    45.958585\n",
    "prelev_commune_code_insee_1                             1407.0\n",
    "prelev_structure_code_2                          OPR0000048941\n",
    "prelev_volume_2                                  10380984702.0\n",
    "prelev_usage_label_2                    EAU TURBINEE (barrage)\n",
    "prelev_volume_obtention_mode_label_2          Mesure indirecte\n",
    "prelev_longitude_2                                    5.698947\n",
    "prelev_latitude_2                                    45.725106\n",
    "prelev_commune_code_insee_2                             1454.0\n",
    "prelev_other_volume_sum                           1793055303.0"
   ]
  },
  {
   "cell_type": "code",
   "execution_count": 14,
   "metadata": {},
   "outputs": [],
   "source": [
    "# prelev_structure_code_0\n",
    "column_filler(train_data, \"prelev_structure_code_0\")\n",
    "# prelev_volume_0\n",
    "column_filler(train_data, \"prelev_volume_0\")\n",
    "# prelev_usage_label_0\n",
    "column_filler(train_data, \"prelev_usage_label_0\")\n",
    "# prelev_volume_obtention_mode_label_0\n",
    "column_filler(train_data, \"prelev_volume_obtention_mode_label_0\")\n",
    "# prelev_longitude_0\n",
    "column_filler(train_data, \"prelev_longitude_0\")\n",
    "# prelev_latitude_0\n",
    "column_filler(train_data, \"prelev_latitude_0\")\n",
    "# prelev_commune_code_insee_0\n",
    "column_filler(train_data, \"prelev_commune_code_insee_0\")"
   ]
  },
  {
   "cell_type": "code",
   "execution_count": 15,
   "metadata": {},
   "outputs": [],
   "source": [
    "# prelev_structure_code_0\n",
    "column_filler(train_data, \"prelev_structure_code_1\")\n",
    "# prelev_volume_0\n",
    "column_filler(train_data, \"prelev_volume_1\")\n",
    "# prelev_usage_label_0\n",
    "column_filler(train_data, \"prelev_usage_label_1\")\n",
    "# prelev_volume_obtention_mode_label_0\n",
    "column_filler(train_data, \"prelev_volume_obtention_mode_label_1\")\n",
    "# prelev_longitude_0\n",
    "column_filler(train_data, \"prelev_longitude_1\")\n",
    "# prelev_latitude_0\n",
    "column_filler(train_data, \"prelev_latitude_1\")\n",
    "# prelev_commune_code_insee_0\n",
    "column_filler(train_data, \"prelev_commune_code_insee_1\")"
   ]
  },
  {
   "cell_type": "code",
   "execution_count": 16,
   "metadata": {},
   "outputs": [],
   "source": [
    "# prelev_structure_code_0\n",
    "column_filler(train_data, \"prelev_structure_code_2\")\n",
    "# prelev_volume_0\n",
    "column_filler(train_data, \"prelev_volume_2\")\n",
    "# prelev_usage_label_0\n",
    "column_filler(train_data, \"prelev_usage_label_2\")\n",
    "# prelev_volume_obtention_mode_label_0\n",
    "column_filler(train_data, \"prelev_volume_obtention_mode_label_2\")\n",
    "# prelev_longitude_0\n",
    "column_filler(train_data, \"prelev_longitude_2\")\n",
    "# prelev_latitude_0\n",
    "column_filler(train_data, \"prelev_latitude_2\")\n",
    "# prelev_commune_code_insee_0\n",
    "column_filler(train_data, \"prelev_commune_code_insee_2\")"
   ]
  },
  {
   "cell_type": "markdown",
   "metadata": {},
   "source": [
    "# Plot functions"
   ]
  },
  {
   "cell_type": "code",
   "execution_count": 17,
   "metadata": {},
   "outputs": [
    {
     "data": {
      "image/png": "[encoded data removed]",
      "text/plain": [
       "<Figure size 1000x600 with 1 Axes>"
      ]
     },
     "metadata": {},
     "output_type": "display_data"
    }
   ],
   "source": [
    "plot_variable(train_data, \"prelev_volume_0\")"
   ]
  },
  {
   "cell_type": "code",
   "execution_count": 18,
   "metadata": {},
   "outputs": [
    {
     "data": {
      "image/png": "[encoded data removed]",
      "text/plain": [
       "<Figure size 1000x600 with 1 Axes>"
      ]
     },
     "metadata": {},
     "output_type": "display_data"
    }
   ],
   "source": [
    "plot_variable(train_data, \"prelev_volume_0\",plot_type='box')"
   ]
  }
 ],
 "metadata": {
  "kernelspec": {
   "display_name": "map",
   "language": "python",
   "name": "python3"
  },
  "language_info": {
   "codemirror_mode": {
    "name": "ipython",
    "version": 3
   },
   "file_extension": ".py",
   "mimetype": "text/x-python",
   "name": "python",
   "nbconvert_exporter": "python",
   "pygments_lexer": "ipython3",
   "version": "3.11.10"
  }
 },
 "nbformat": 4,
 "nbformat_minor": 2
}
