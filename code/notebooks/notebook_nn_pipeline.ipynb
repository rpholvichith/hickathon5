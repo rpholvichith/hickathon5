{
 "cells": [
  {
   "cell_type": "code",
   "execution_count": null,
   "metadata": {},
   "outputs": [],
   "source": [
    "tiny = True\n",
    "n_rows = 100_000"
   ]
  },
  {
   "cell_type": "code",
   "execution_count": null,
   "metadata": {},
   "outputs": [],
   "source": [
    "# Install package\n",
    "!pip install gdown\n",
    "\n",
    "# Import packages\n",
    "import gdown\n",
    "import os\n",
    "import pandas as pd\n",
    "pd.set_option('display.max_rows', 500)\n",
    "pd.set_option('display.max_columns', 500)\n",
    "\n",
    "# ID et lien du fichier Google Drive\n",
    "X_test_url = \"https://drive.google.com/uc?id=13fu6pPDtRCTmYUjJDs4fQyCStwOMk3R-\"\n",
    "X_train_url = \"https://drive.google.com/uc?id=1c0fje85ul1EFX-vh6RwjvuYtP2v1WIq2\"\n",
    "\n",
    "# Téléchargement du fichier train\n",
    "output_train = 'X_train.csv'  # Nom du fichier local où vous voulez sauvegarder X_train\n",
    "if not os.path.exists(output_train):\n",
    "    gdown.download(X_train_url, output_train, quiet=False)\n",
    "\n",
    "# Téléchargement du fichier test\n",
    "output_test = 'X_test.csv'  # Nom du fichier local où vous voulez sauvegarder X_test\n",
    "if not os.path.exists(output_test):\n",
    "    gdown.download(X_test_url, output_test, quiet=False)\n",
    "\n",
    "# Charger le fichier CSV dans un DataFrame pandas\n",
    "if tiny:\n",
    "    df_train = pd.read_csv(output_train, index_col='row_index', nrows=n_rows)\n",
    "else:\n",
    "    df_train = pd.read_csv(output_train, index_col='row_index')\n",
    "df_test = pd.read_csv(output_test, index_col='row_index')"
   ]
  }
 ],
 "metadata": {
  "kernelspec": {
   "display_name": "map",
   "language": "python",
   "name": "python3"
  },
  "language_info": {
   "name": "python",
   "version": "3.11.10"
  }
 },
 "nbformat": 4,
 "nbformat_minor": 2
}
