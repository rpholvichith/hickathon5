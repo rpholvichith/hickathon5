{
 "cells": [
  {
   "cell_type": "code",
   "execution_count": 1,
   "metadata": {},
   "outputs": [],
   "source": [
    "# Mandatory operation for importing custom libraries\n",
    "from pathlib import Path\n",
    "import sys\n",
    "\n",
    "cwd = Path.cwd()\n",
    "base = cwd.parent\n",
    "sys.path.append(str(base))"
   ]
  },
  {
   "cell_type": "code",
   "execution_count": 2,
   "metadata": {},
   "outputs": [
    {
     "name": "stdout",
     "output_type": "stream",
     "text": [
      "c:\\Users\\User\\Desktop\\Hi!ckathon\\hickathon5\\data\n"
     ]
    }
   ],
   "source": [
    "# Testing FileManager\n",
    "from file_manager.file_manager import FileManager\n",
    "\n",
    "file_manager = FileManager()\n",
    "print(file_manager.data_folder)"
   ]
  },
  {
   "cell_type": "code",
   "execution_count": 3,
   "metadata": {},
   "outputs": [],
   "source": [
    "import pandas as pd\n",
    "import warnings\n",
    "\n",
    "pd.set_option('display.max_rows', 500)\n",
    "pd.set_option('display.max_columns', 500)\n",
    "warnings.filterwarnings(\"ignore\")"
   ]
  },
  {
   "cell_type": "markdown",
   "metadata": {},
   "source": [
    "# Load data"
   ]
  },
  {
   "cell_type": "code",
   "execution_count": 4,
   "metadata": {},
   "outputs": [],
   "source": [
    "train_data = file_manager.load_training_data()"
   ]
  },
  {
   "cell_type": "code",
   "execution_count": 5,
   "metadata": {},
   "outputs": [
    {
     "name": "stdout",
     "output_type": "stream",
     "text": [
      "piezo_station_department_code                                                          01\n",
      "piezo_station_update_date                                   Sun Jul 14 13:00:02 CEST 2024\n",
      "piezo_station_investigation_depth                                                    20.0\n",
      "piezo_station_department_name                                                         Ain\n",
      "piezo_station_commune_code_insee                                                    01073\n",
      "piezo_station_pe_label                  PIEZOMETRE - MARAIS DE LAVOURS (CEYZERIEU - BR...\n",
      "piezo_station_bdlisa_codes                                                    ['712AH37']\n",
      "piezo_station_altitude                                                              232.0\n",
      "piezo_station_bss_code                                                   07004X0046/D6-20\n",
      "piezo_station_commune_name                                                      Ceyzérieu\n",
      "piezo_station_longitude                                                          5.748241\n",
      "piezo_station_latitude                                                          45.828148\n",
      "piezo_station_bss_id                                                           BSS001TTQQ\n",
      "piezo_bss_code                                                           07004X0046/D6-20\n",
      "piezo_measurement_date                                                         2020-01-01\n",
      "piezo_obtention_mode                                                       Valeur mesurée\n",
      "piezo_status                                                    Donnée contrôlée niveau 2\n",
      "piezo_qualification                                                              Correcte\n",
      "piezo_continuity_code                                                                 2.0\n",
      "piezo_continuity_name                                        Point lié au point précédent\n",
      "piezo_producer_code                                                                 196.0\n",
      "piezo_producer_name                         Service Géologique Régional Rhône-Alpes (196)\n",
      "piezo_measure_nature_code                                                               N\n",
      "piezo_measure_nature_name                                                         Naturel\n",
      "meteo_id                                                                          1034004\n",
      "meteo_name                                                                         BELLEY\n",
      "meteo_latitude                                                                      5.688\n",
      "meteo_longitude                                                                 45.769333\n",
      "meteo_altitude                                                                        330\n",
      "meteo_date                                                                     2020-01-01\n",
      "meteo_rain_height                                                                     0.2\n",
      "meteo_DRR                                                                             NaN\n",
      "meteo_temperature_min                                                                -1.6\n",
      "meteo_time_tn                                                                       516.0\n",
      "meteo_temperature_max                                                                 3.9\n",
      "meteo_time_tx                                                                      1352.0\n",
      "meteo_temperature_avg                                                                 0.7\n",
      "meteo_temperature_avg_threshold                                                      1.15\n",
      "meteo_temperature_min_ground                                                         -3.7\n",
      "meteo_temperature_min_50cm                                                            NaN\n",
      "meteo_frost_duration                                                                577.0\n",
      "meteo_amplitude_tn_tx                                                                 5.5\n",
      "meteo_temperature_avg_tntm                                                            1.2\n",
      "meteo_pressure_avg                                                                    NaN\n",
      "meteo_pression_maxi                                                                   NaN\n",
      "meteo_wind_speed_avg_10m                                                              1.5\n",
      "meteo_wind_max                                                                        6.7\n",
      "meteo_wind_direction_max_inst                                                       360.0\n",
      "meteo_time_wind_max                                                                1047.0\n",
      "meteo_wind_avg                                                                        4.1\n",
      "meteo_wind_direction_max_avg                                                         30.0\n",
      "meteo_time_wind_avg                                                                1042.0\n",
      "meteo_wind_speed_avg_2m                                                               NaN\n",
      "meteo_wind_max_2m                                                                     NaN\n",
      "meteo_wind_direction_max_inst_2m                                                      NaN\n",
      "meteo_time_wind_max_2m                                                                NaN\n",
      "meteo_wind_max_3s                                                                     6.4\n",
      "meteo_time_wind_max_3s                                                             1034.0\n",
      "meteo_humidity_min                                                                   82.0\n",
      "meteo_time_humidity_min                                                            1512.0\n",
      "meteo_humidity_max                                                                   99.0\n",
      "meteo_time_humidity_max                                                             520.0\n",
      "meteo_humidity_duration_below_40%                                                     0.0\n",
      "meteo_humidity_duration_above_80%                                                  1440.0\n",
      "meteo__pressure_saturation_avg                                                        6.0\n",
      "meteo_wetting_duration                                                                NaN\n",
      "meteo_humidity_avg                                                                   94.0\n",
      "meteo_sunshine_duration                                                               NaN\n",
      "meteo_radiation                                                                       NaN\n",
      "meteo_radiation_direct                                                                NaN\n",
      "meteo_sunshine_%                                                                      NaN\n",
      "meteo_radiation_IR                                                                    NaN\n",
      "meteo_radiation_UV_max                                                                NaN\n",
      "meteo_cloudiness                                                                      NaN\n",
      "meteo_cloudiness_height                                                               NaN\n",
      "meteo_if_snow                                                                         NaN\n",
      "meteo_if_fog                                                                          NaN\n",
      "meteo_if_thunderstorm                                                                 NaN\n",
      "meteo_if_sleet                                                                        NaN\n",
      "meteo_if_hail                                                                         NaN\n",
      "meteo_if_dew                                                                          NaN\n",
      "meteo_if_black_ice                                                                    NaN\n",
      "meteo_if_snow_ground                                                                  NaN\n",
      "meteo_if_frost                                                                        NaN\n",
      "meteo_if_smoke                                                                        NaN\n",
      "meteo_if_mist                                                                         NaN\n",
      "meteo_if_lightning                                                                    NaN\n",
      "meteo_evapotranspiration_Monteith                                                     NaN\n",
      "meteo_evapotranspiration_grid                                                         0.5\n",
      "meteo_radiation_UV                                                                    NaN\n",
      "meteo_snow_height                                                                     NaN\n",
      "meteo_snow_thickness_max                                                              NaN\n",
      "meteo_snow_thickness_6h                                                               NaN\n",
      "distance_piezo_meteo                                                             8.036207\n",
      "hydro_station_code                                                             V142501001\n",
      "hydro_observation_date_elab                                                    2020-01-01\n",
      "hydro_observation_result_elab                                                      1833.0\n",
      "hydro_status_code                                                                      16\n",
      "hydro_status_label                                                         Donnée validée\n",
      "hydro_method_code                                                                      12\n",
      "hydro_method_label                                                          Interpolation\n",
      "hydro_qualification_code                                                               20\n",
      "hydro_qualification_label                                                           Bonne\n",
      "hydro_longitude                                                                  5.685831\n",
      "hydro_latitude                                                                  45.874843\n",
      "hydro_hydro_quantity_elab                                                             QmJ\n",
      "distance_piezo_hydro                                                             7.093852\n",
      "prelev_structure_code_0                                                     OPR0000048924\n",
      "prelev_volume_0                                                             10743145235.0\n",
      "prelev_usage_label_0                                               EAU TURBINEE (barrage)\n",
      "prelev_volume_obtention_mode_label_0                                     Mesure indirecte\n",
      "prelev_longitude_0                                                               5.811394\n",
      "prelev_latitude_0                                                               45.878862\n",
      "prelev_commune_code_insee_0                                                        1010.0\n",
      "prelev_structure_code_1                                                     OPR0000048938\n",
      "prelev_volume_1                                                             10608280884.0\n",
      "prelev_usage_label_1                                               EAU TURBINEE (barrage)\n",
      "prelev_volume_obtention_mode_label_1                                     Mesure indirecte\n",
      "prelev_longitude_1                                                                5.83283\n",
      "prelev_latitude_1                                                               45.958585\n",
      "prelev_commune_code_insee_1                                                        1407.0\n",
      "prelev_structure_code_2                                                     OPR0000048941\n",
      "prelev_volume_2                                                             10380984702.0\n",
      "prelev_usage_label_2                                               EAU TURBINEE (barrage)\n",
      "prelev_volume_obtention_mode_label_2                                     Mesure indirecte\n",
      "prelev_longitude_2                                                               5.698947\n",
      "prelev_latitude_2                                                               45.725106\n",
      "prelev_commune_code_insee_2                                                        1454.0\n",
      "prelev_other_volume_sum                                                      1793055303.0\n",
      "insee_%_agri                                                                         11.8\n",
      "insee_pop_commune                                                                   992.0\n",
      "insee_med_living_level                                                              25250\n",
      "insee_%_ind                                                                           2.9\n",
      "insee_%_const                                                                        16.2\n",
      "piezo_groundwater_level_category                                                     High\n",
      "Name: 0, dtype: object\n"
     ]
    }
   ],
   "source": [
    "print(train_data.iloc[0])"
   ]
  },
  {
   "cell_type": "markdown",
   "metadata": {},
   "source": [
    "# Checking if dates are coherent\n",
    "\n",
    "## Formating relevent columns into DateTime type\n",
    "\n",
    "Columns: `piezo_measurement_date`, `meteo_date`, `hydro_observation_date_elab`"
   ]
  },
  {
   "cell_type": "code",
   "execution_count": 6,
   "metadata": {},
   "outputs": [
    {
     "name": "stdout",
     "output_type": "stream",
     "text": [
      "1034004\n",
      "<class 'numpy.int64'>\n"
     ]
    }
   ],
   "source": [
    "print(train_data.iloc[0]['meteo_id'])\n",
    "print(type(train_data.iloc[0]['meteo_id']))"
   ]
  },
  {
   "cell_type": "code",
   "execution_count": 7,
   "metadata": {},
   "outputs": [
    {
     "name": "stdout",
     "output_type": "stream",
     "text": [
      "2020-01-01\n",
      "<class 'str'>\n",
      "<class 'pandas.core.series.Series'>\n",
      "Index: 2830316 entries, 0 to 3294084\n",
      "Series name: piezo_measurement_date\n",
      "Non-Null Count    Dtype         \n",
      "--------------    -----         \n",
      "2830316 non-null  datetime64[ns]\n",
      "dtypes: datetime64[ns](1)\n",
      "memory usage: 43.2 MB\n",
      "None\n",
      "2020-01-01 00:00:00\n",
      "<class 'pandas._libs.tslibs.timestamps.Timestamp'>\n",
      "2020-01-01\n"
     ]
    }
   ],
   "source": [
    "print(train_data.iloc[0]['piezo_measurement_date'])\n",
    "print(type(train_data.iloc[0]['piezo_measurement_date']))\n",
    "train_data['piezo_measurement_date'] = pd.to_datetime(train_data['piezo_measurement_date'])\n",
    "print(train_data['piezo_measurement_date'].info())\n",
    "instance_piezo = train_data['piezo_measurement_date'].iloc[0]\n",
    "print(instance_piezo)\n",
    "print(type(instance_piezo))\n",
    "print(instance_piezo.date())"
   ]
  },
  {
   "cell_type": "code",
   "execution_count": 8,
   "metadata": {},
   "outputs": [
    {
     "name": "stdout",
     "output_type": "stream",
     "text": [
      "2023-05-31 00:00:00\n",
      "<class 'pandas._libs.tslibs.timestamps.Timestamp'>\n",
      "2023-05-31\n"
     ]
    }
   ],
   "source": [
    "# Last row\n",
    "instance_piezo_tail = train_data['piezo_measurement_date'].iloc[-1]\n",
    "print(instance_piezo_tail)\n",
    "print(type(instance_piezo_tail))\n",
    "print(instance_piezo_tail.date())"
   ]
  },
  {
   "cell_type": "markdown",
   "metadata": {},
   "source": [
    "> The years span from 2020 to 2023."
   ]
  },
  {
   "cell_type": "code",
   "execution_count": 9,
   "metadata": {},
   "outputs": [
    {
     "name": "stdout",
     "output_type": "stream",
     "text": [
      "2020-01-01\n",
      "<class 'str'>\n",
      "2020-01-01 00:00:00\n",
      "<class 'pandas._libs.tslibs.timestamps.Timestamp'>\n"
     ]
    }
   ],
   "source": [
    "print(train_data.iloc[0]['meteo_date'])\n",
    "print(type(train_data.iloc[0]['meteo_date']))\n",
    "train_data['meteo_date'] = pd.to_datetime(train_data['meteo_date'])\n",
    "instance_meteo = train_data['meteo_date'].iloc[0]\n",
    "print(instance_meteo)\n",
    "print(type(instance_meteo))"
   ]
  },
  {
   "cell_type": "code",
   "execution_count": 10,
   "metadata": {},
   "outputs": [
    {
     "name": "stdout",
     "output_type": "stream",
     "text": [
      "2020-01-01\n",
      "<class 'str'>\n",
      "2020-01-01 00:00:00\n",
      "<class 'pandas._libs.tslibs.timestamps.Timestamp'>\n"
     ]
    }
   ],
   "source": [
    "print(train_data.iloc[0]['hydro_observation_date_elab'])\n",
    "print(type(train_data.iloc[0]['hydro_observation_date_elab']))\n",
    "train_data['hydro_observation_date_elab'] = pd.to_datetime(train_data['hydro_observation_date_elab'])\n",
    "instance_hydro = train_data['hydro_observation_date_elab'].iloc[0]\n",
    "print(instance_hydro)\n",
    "print(type(instance_hydro))"
   ]
  },
  {
   "cell_type": "code",
   "execution_count": 11,
   "metadata": {},
   "outputs": [
    {
     "name": "stdout",
     "output_type": "stream",
     "text": [
      "True\n"
     ]
    }
   ],
   "source": [
    "# Comparing two dates\n",
    "print(instance_piezo.date() == instance_meteo.date())"
   ]
  },
  {
   "cell_type": "markdown",
   "metadata": {},
   "source": [
    "## Actual checking"
   ]
  },
  {
   "cell_type": "code",
   "execution_count": 12,
   "metadata": {},
   "outputs": [],
   "source": [
    "def get_unique_dates(datetimes: list[pd.Timestamp]) -> bool:\n",
    "    date = datetimes[0].date()\n",
    "    unique_dates = [date]\n",
    "    for datetime in datetimes:\n",
    "        if datetime.date() != date:\n",
    "            unique_dates.append(datetime.date())\n",
    "    return unique_dates"
   ]
  },
  {
   "cell_type": "code",
   "execution_count": 13,
   "metadata": {},
   "outputs": [
    {
     "name": "stdout",
     "output_type": "stream",
     "text": [
      "Done\n"
     ]
    }
   ],
   "source": [
    "for index, row in train_data.iterrows():\n",
    "    unique_dates = get_unique_dates([row['piezo_measurement_date'], row['meteo_date'], row['hydro_observation_date_elab']])\n",
    "    if len(unique_dates) > 1:\n",
    "        print(f\"Multiple dates at row {index}: {unique_dates}\")\n",
    "print(\"Done\")"
   ]
  },
  {
   "cell_type": "markdown",
   "metadata": {},
   "source": [
    "## > No incoherent dates in train set"
   ]
  },
  {
   "cell_type": "markdown",
   "metadata": {},
   "source": [
    "# Splitting data"
   ]
  },
  {
   "cell_type": "code",
   "execution_count": 22,
   "metadata": {},
   "outputs": [],
   "source": [
    "import os\n",
    "\n",
    "# Splitting by year, starting with Winter 2020 (01-01-2020) until Spring 2023 (31-05-2023)\n",
    "def split(\n",
    "        df: pd.DataFrame,\n",
    "        start_date: str,\n",
    "        end_date: str,\n",
    "        output_file_name: str\n",
    ") -> None:\n",
    "    # Making sure that column is DateTime\n",
    "    df['piezo_measurement_date'] = pd.to_datetime(df['piezo_measurement_date'])\n",
    "    # Splitting\n",
    "    split_df = df.loc[(df['piezo_measurement_date'] >= start_date) & (df['piezo_measurement_date'] <= end_date)]\n",
    "    # Save file\n",
    "    if not os.path.exists(file_manager.data_folder / output_file_name):\n",
    "        file_manager.save_dataframe(split_df, output_file_name)\n",
    "    else:\n",
    "        print(\"File already exists.\")"
   ]
  },
  {
   "cell_type": "code",
   "execution_count": 15,
   "metadata": {},
   "outputs": [],
   "source": [
    "# Export Winter 2020\n",
    "start_date = '2019-12-01'\n",
    "end_date = '2020-02-29'\n",
    "output_file_name = 'X_train_winter_2020.csv'\n",
    "\n",
    "split(train_data, start_date, end_date, output_file_name)"
   ]
  },
  {
   "cell_type": "code",
   "execution_count": 20,
   "metadata": {},
   "outputs": [],
   "source": [
    "# Export 2020\n",
    "start_date = '2019-12-01'\n",
    "end_date = '2020-11-30'\n",
    "output_file_name = 'X_train_2020.csv'\n",
    "\n",
    "split(train_data, start_date, end_date, output_file_name)"
   ]
  },
  {
   "cell_type": "code",
   "execution_count": 21,
   "metadata": {},
   "outputs": [],
   "source": [
    "# Export 2021\n",
    "start_date = '2020-12-01'\n",
    "end_date = '2021-11-30'\n",
    "output_file_name = 'X_train_2021.csv'\n",
    "\n",
    "split(train_data, start_date, end_date, output_file_name)"
   ]
  },
  {
   "cell_type": "code",
   "execution_count": 23,
   "metadata": {},
   "outputs": [],
   "source": [
    "# Export 2022\n",
    "start_date = '2021-12-01'\n",
    "end_date = '2022-11-30'\n",
    "output_file_name = 'X_train_2022.csv'\n",
    "\n",
    "split(train_data, start_date, end_date, output_file_name)"
   ]
  },
  {
   "cell_type": "code",
   "execution_count": 24,
   "metadata": {},
   "outputs": [],
   "source": [
    "# Export 2023\n",
    "start_date = '2022-12-01'\n",
    "end_date = '2023-11-30'\n",
    "output_file_name = 'X_train_2023.csv'\n",
    "\n",
    "split(train_data, start_date, end_date, output_file_name)"
   ]
  },
  {
   "cell_type": "markdown",
   "metadata": {},
   "source": [
    "# Analysis of the test set"
   ]
  },
  {
   "cell_type": "code",
   "execution_count": 16,
   "metadata": {},
   "outputs": [
    {
     "data": {
      "text/plain": [
       "piezo_station_department_code                                                          01\n",
       "piezo_station_update_date                                   Sun Jul 14 13:00:02 CEST 2024\n",
       "piezo_station_investigation_depth                                                    20.0\n",
       "piezo_station_department_name                                                         Ain\n",
       "piezo_station_commune_code_insee                                                    01073\n",
       "piezo_station_pe_label                  PIEZOMETRE - MARAIS DE LAVOURS (CEYZERIEU - BR...\n",
       "piezo_station_bdlisa_codes                                                    ['712AH37']\n",
       "piezo_station_altitude                                                              232.0\n",
       "piezo_station_bss_code                                                   07004X0046/D6-20\n",
       "piezo_station_commune_name                                                      Ceyzérieu\n",
       "piezo_station_longitude                                                          5.748241\n",
       "piezo_station_latitude                                                          45.828148\n",
       "piezo_station_bss_id                                                           BSS001TTQQ\n",
       "piezo_bss_code                                                           07004X0046/D6-20\n",
       "piezo_measurement_date                                                         2022-06-01\n",
       "piezo_obtention_mode                                                       Valeur mesurée\n",
       "piezo_status                                                    Donnée contrôlée niveau 2\n",
       "piezo_qualification                                                              Correcte\n",
       "piezo_continuity_code                                                                 2.0\n",
       "piezo_continuity_name                                        Point lié au point précédent\n",
       "piezo_producer_code                                                                 196.0\n",
       "piezo_producer_name                         Service Géologique Régional Rhône-Alpes (196)\n",
       "piezo_measure_nature_code                                                               N\n",
       "piezo_measure_nature_name                                                         Naturel\n",
       "meteo_id                                                                          1034004\n",
       "meteo_name                                                                         BELLEY\n",
       "meteo_latitude                                                                      5.688\n",
       "meteo_longitude                                                                 45.769333\n",
       "meteo_altitude                                                                        330\n",
       "meteo_date                                                                     2022-06-01\n",
       "meteo_rain_height                                                                     7.4\n",
       "meteo_DRR                                                                             NaN\n",
       "meteo_temperature_min                                                                12.8\n",
       "meteo_time_tn                                                                       335.0\n",
       "meteo_temperature_max                                                                23.2\n",
       "meteo_time_tx                                                                      1556.0\n",
       "meteo_temperature_avg                                                                17.1\n",
       "meteo_temperature_avg_threshold                                                      18.0\n",
       "meteo_temperature_min_ground                                                         12.1\n",
       "meteo_temperature_min_50cm                                                            NaN\n",
       "meteo_frost_duration                                                                  0.0\n",
       "meteo_amplitude_tn_tx                                                                10.4\n",
       "meteo_temperature_avg_tntm                                                           18.0\n",
       "meteo_pressure_avg                                                                    NaN\n",
       "meteo_pression_maxi                                                                   NaN\n",
       "meteo_wind_speed_avg_10m                                                              1.3\n",
       "meteo_wind_max                                                                        6.6\n",
       "meteo_wind_direction_max_inst                                                       100.0\n",
       "meteo_time_wind_max                                                                2257.0\n",
       "meteo_wind_avg                                                                        3.1\n",
       "meteo_wind_direction_max_avg                                                         90.0\n",
       "meteo_time_wind_avg                                                                2301.0\n",
       "meteo_wind_speed_avg_2m                                                               NaN\n",
       "meteo_wind_max_2m                                                                     NaN\n",
       "meteo_wind_direction_max_inst_2m                                                      NaN\n",
       "meteo_time_wind_max_2m                                                                NaN\n",
       "meteo_wind_max_3s                                                                     6.2\n",
       "meteo_time_wind_max_3s                                                             2257.0\n",
       "meteo_humidity_min                                                                   57.0\n",
       "meteo_time_humidity_min                                                            1559.0\n",
       "meteo_humidity_max                                                                   98.0\n",
       "meteo_time_humidity_max                                                               1.0\n",
       "meteo_humidity_duration_below_40%                                                     0.0\n",
       "meteo_humidity_duration_above_80%                                                  1044.0\n",
       "meteo__pressure_saturation_avg                                                       16.5\n",
       "meteo_wetting_duration                                                                NaN\n",
       "meteo_humidity_avg                                                                   85.0\n",
       "meteo_sunshine_duration                                                               NaN\n",
       "meteo_radiation                                                                       NaN\n",
       "meteo_radiation_direct                                                                NaN\n",
       "meteo_sunshine_%                                                                      NaN\n",
       "meteo_radiation_IR                                                                    NaN\n",
       "meteo_radiation_UV_max                                                                NaN\n",
       "meteo_cloudiness                                                                      NaN\n",
       "meteo_cloudiness_height                                                               NaN\n",
       "meteo_if_snow                                                                         NaN\n",
       "meteo_if_fog                                                                          NaN\n",
       "meteo_if_thunderstorm                                                                 NaN\n",
       "meteo_if_sleet                                                                        NaN\n",
       "meteo_if_hail                                                                         NaN\n",
       "meteo_if_dew                                                                          NaN\n",
       "meteo_if_black_ice                                                                    NaN\n",
       "meteo_if_snow_ground                                                                  NaN\n",
       "meteo_if_frost                                                                        NaN\n",
       "meteo_if_smoke                                                                        NaN\n",
       "meteo_if_mist                                                                         NaN\n",
       "meteo_if_lightning                                                                    NaN\n",
       "meteo_evapotranspiration_Monteith                                                     NaN\n",
       "meteo_evapotranspiration_grid                                                         2.7\n",
       "meteo_radiation_UV                                                                    NaN\n",
       "meteo_snow_height                                                                     NaN\n",
       "meteo_snow_thickness_max                                                              NaN\n",
       "meteo_snow_thickness_6h                                                               NaN\n",
       "distance_piezo_meteo                                                             8.036207\n",
       "hydro_station_code                                                             V142501001\n",
       "hydro_observation_date_elab                                                    2022-06-01\n",
       "hydro_observation_result_elab                                                       191.0\n",
       "hydro_status_code                                                                      16\n",
       "hydro_status_label                                                         Donnée validée\n",
       "hydro_method_code                                                                      12\n",
       "hydro_method_label                                                          Interpolation\n",
       "hydro_qualification_code                                                               16\n",
       "hydro_qualification_label                                                   Non qualifiée\n",
       "hydro_longitude                                                                  5.685831\n",
       "hydro_latitude                                                                  45.874843\n",
       "hydro_hydro_quantity_elab                                                             QmM\n",
       "distance_piezo_hydro                                                             7.093852\n",
       "prelev_structure_code_0                                                               NaN\n",
       "prelev_volume_0                                                                       NaN\n",
       "prelev_usage_label_0                                                                  NaN\n",
       "prelev_volume_obtention_mode_label_0                                                  NaN\n",
       "prelev_longitude_0                                                                    NaN\n",
       "prelev_latitude_0                                                                     NaN\n",
       "prelev_commune_code_insee_0                                                           NaN\n",
       "prelev_structure_code_1                                                               NaN\n",
       "prelev_volume_1                                                                       NaN\n",
       "prelev_usage_label_1                                                                  NaN\n",
       "prelev_volume_obtention_mode_label_1                                                  NaN\n",
       "prelev_longitude_1                                                                    NaN\n",
       "prelev_latitude_1                                                                     NaN\n",
       "prelev_commune_code_insee_1                                                           NaN\n",
       "prelev_structure_code_2                                                               NaN\n",
       "prelev_volume_2                                                                       NaN\n",
       "prelev_usage_label_2                                                                  NaN\n",
       "prelev_volume_obtention_mode_label_2                                                  NaN\n",
       "prelev_longitude_2                                                                    NaN\n",
       "prelev_latitude_2                                                                     NaN\n",
       "prelev_commune_code_insee_2                                                           NaN\n",
       "prelev_other_volume_sum                                                               0.0\n",
       "insee_%_agri                                                                         11.8\n",
       "insee_pop_commune                                                                   992.0\n",
       "insee_med_living_level                                                              25250\n",
       "insee_%_ind                                                                           2.9\n",
       "insee_%_const                                                                        16.2\n",
       "Name: 2331795, dtype: object"
      ]
     },
     "execution_count": 16,
     "metadata": {},
     "output_type": "execute_result"
    }
   ],
   "source": [
    "test_data = file_manager.load_test_data()\n",
    "\n",
    "test_data.iloc[0]"
   ]
  },
  {
   "cell_type": "code",
   "execution_count": 17,
   "metadata": {},
   "outputs": [
    {
     "data": {
      "text/plain": [
       "piezo_station_department_code                                                          95\n",
       "piezo_station_update_date                                    Tue Jan 28 19:01:33 CET 2020\n",
       "piezo_station_investigation_depth                                                   104.0\n",
       "piezo_station_department_name                                                  Val-d'Oise\n",
       "piezo_station_commune_code_insee                                                    95509\n",
       "piezo_station_pe_label                  Piézomètre de Puiseux-en-France (Puiseux-en-Fr...\n",
       "piezo_station_bdlisa_codes                                         ['113AQ27', '113AV01']\n",
       "piezo_station_altitude                                                              131.0\n",
       "piezo_station_bss_code                                                       01534X0049/F\n",
       "piezo_station_commune_name                                              Puiseux-en-France\n",
       "piezo_station_longitude                                                          2.488424\n",
       "piezo_station_latitude                                                          49.069086\n",
       "piezo_station_bss_id                                                           BSS000LJMF\n",
       "piezo_bss_code                                                               01534X0049/F\n",
       "piezo_measurement_date                                                         2023-09-30\n",
       "piezo_obtention_mode                                                       Valeur mesurée\n",
       "piezo_status                                                    Donnée contrôlée niveau 1\n",
       "piezo_qualification                                                              Correcte\n",
       "piezo_continuity_code                                                                 2.0\n",
       "piezo_continuity_name                                        Point lié au point précédent\n",
       "piezo_producer_code                                                                 238.0\n",
       "piezo_producer_name                       Service Géologique Régional Ile-de-France (238)\n",
       "piezo_measure_nature_code                                                               0\n",
       "piezo_measure_nature_name                                                        Inconnue\n",
       "meteo_id                                                                         95580001\n",
       "meteo_name                                                                        ST WITZ\n",
       "meteo_latitude                                                                   2.550667\n",
       "meteo_longitude                                                                 49.085667\n",
       "meteo_altitude                                                                        141\n",
       "meteo_date                                                                     2023-09-30\n",
       "meteo_rain_height                                                                     0.2\n",
       "meteo_DRR                                                                             NaN\n",
       "meteo_temperature_min                                                                 9.8\n",
       "meteo_time_tn                                                                       435.0\n",
       "meteo_temperature_max                                                                21.6\n",
       "meteo_time_tx                                                                      1430.0\n",
       "meteo_temperature_avg                                                                15.8\n",
       "meteo_temperature_avg_threshold                                                      15.7\n",
       "meteo_temperature_min_ground                                                          NaN\n",
       "meteo_temperature_min_50cm                                                            NaN\n",
       "meteo_frost_duration                                                                  0.0\n",
       "meteo_amplitude_tn_tx                                                                11.8\n",
       "meteo_temperature_avg_tntm                                                           15.7\n",
       "meteo_pressure_avg                                                                    NaN\n",
       "meteo_pression_maxi                                                                   NaN\n",
       "meteo_wind_speed_avg_10m                                                              NaN\n",
       "meteo_wind_max                                                                        NaN\n",
       "meteo_wind_direction_max_inst                                                         NaN\n",
       "meteo_time_wind_max                                                                   NaN\n",
       "meteo_wind_avg                                                                        NaN\n",
       "meteo_wind_direction_max_avg                                                          NaN\n",
       "meteo_time_wind_avg                                                                   NaN\n",
       "meteo_wind_speed_avg_2m                                                               NaN\n",
       "meteo_wind_max_2m                                                                     NaN\n",
       "meteo_wind_direction_max_inst_2m                                                      NaN\n",
       "meteo_time_wind_max_2m                                                                NaN\n",
       "meteo_wind_max_3s                                                                     NaN\n",
       "meteo_time_wind_max_3s                                                                NaN\n",
       "meteo_humidity_min                                                                   54.0\n",
       "meteo_time_humidity_min                                                            1306.0\n",
       "meteo_humidity_max                                                                   96.0\n",
       "meteo_time_humidity_max                                                             454.0\n",
       "meteo_humidity_duration_below_40%                                                     0.0\n",
       "meteo_humidity_duration_above_80%                                                   670.0\n",
       "meteo__pressure_saturation_avg                                                       13.3\n",
       "meteo_wetting_duration                                                                NaN\n",
       "meteo_humidity_avg                                                                   75.0\n",
       "meteo_sunshine_duration                                                               NaN\n",
       "meteo_radiation                                                                       NaN\n",
       "meteo_radiation_direct                                                                NaN\n",
       "meteo_sunshine_%                                                                      NaN\n",
       "meteo_radiation_IR                                                                    NaN\n",
       "meteo_radiation_UV_max                                                                NaN\n",
       "meteo_cloudiness                                                                      NaN\n",
       "meteo_cloudiness_height                                                               NaN\n",
       "meteo_if_snow                                                                         NaN\n",
       "meteo_if_fog                                                                          NaN\n",
       "meteo_if_thunderstorm                                                                 NaN\n",
       "meteo_if_sleet                                                                        NaN\n",
       "meteo_if_hail                                                                         NaN\n",
       "meteo_if_dew                                                                          NaN\n",
       "meteo_if_black_ice                                                                    NaN\n",
       "meteo_if_snow_ground                                                                  NaN\n",
       "meteo_if_frost                                                                        NaN\n",
       "meteo_if_smoke                                                                        NaN\n",
       "meteo_if_mist                                                                         NaN\n",
       "meteo_if_lightning                                                                    NaN\n",
       "meteo_evapotranspiration_Monteith                                                     NaN\n",
       "meteo_evapotranspiration_grid                                                         1.7\n",
       "meteo_radiation_UV                                                                    NaN\n",
       "meteo_snow_height                                                                     NaN\n",
       "meteo_snow_thickness_max                                                              NaN\n",
       "meteo_snow_thickness_6h                                                               NaN\n",
       "distance_piezo_meteo                                                             4.894182\n",
       "hydro_station_code                                                             H224000501\n",
       "hydro_observation_date_elab                                                    2023-09-30\n",
       "hydro_observation_result_elab                                                       113.0\n",
       "hydro_status_code                                                                      16\n",
       "hydro_status_label                                                         Donnée validée\n",
       "hydro_method_code                                                                      12\n",
       "hydro_method_label                                                          Interpolation\n",
       "hydro_qualification_code                                                               20\n",
       "hydro_qualification_label                                                           Bonne\n",
       "hydro_longitude                                                                  2.415803\n",
       "hydro_latitude                                                                  49.132872\n",
       "hydro_hydro_quantity_elab                                                             QmJ\n",
       "distance_piezo_hydro                                                             8.846376\n",
       "prelev_structure_code_0                                                               NaN\n",
       "prelev_volume_0                                                                       NaN\n",
       "prelev_usage_label_0                                                                  NaN\n",
       "prelev_volume_obtention_mode_label_0                                                  NaN\n",
       "prelev_longitude_0                                                                    NaN\n",
       "prelev_latitude_0                                                                     NaN\n",
       "prelev_commune_code_insee_0                                                           NaN\n",
       "prelev_structure_code_1                                                               NaN\n",
       "prelev_volume_1                                                                       NaN\n",
       "prelev_usage_label_1                                                                  NaN\n",
       "prelev_volume_obtention_mode_label_1                                                  NaN\n",
       "prelev_longitude_1                                                                    NaN\n",
       "prelev_latitude_1                                                                     NaN\n",
       "prelev_commune_code_insee_1                                                           NaN\n",
       "prelev_structure_code_2                                                               NaN\n",
       "prelev_volume_2                                                                       NaN\n",
       "prelev_usage_label_2                                                                  NaN\n",
       "prelev_volume_obtention_mode_label_2                                                  NaN\n",
       "prelev_longitude_2                                                                    NaN\n",
       "prelev_latitude_2                                                                     NaN\n",
       "prelev_commune_code_insee_2                                                           NaN\n",
       "prelev_other_volume_sum                                                               NaN\n",
       "insee_%_agri                                                                          2.4\n",
       "insee_pop_commune                                                                  3757.0\n",
       "insee_med_living_level                                                              25860\n",
       "insee_%_ind                                                                           4.1\n",
       "insee_%_const                                                                         8.9\n",
       "Name: 3610822, dtype: object"
      ]
     },
     "execution_count": 17,
     "metadata": {},
     "output_type": "execute_result"
    }
   ],
   "source": [
    "test_data.iloc[-1]"
   ]
  },
  {
   "cell_type": "code",
   "execution_count": 18,
   "metadata": {},
   "outputs": [],
   "source": [
    "def data_to_datetime(df: pd.DataFrame) -> pd.DataFrame:\n",
    "    variable_names = ['piezo_measurement_date', 'meteo_date', 'hydro_observation_date_elab']\n",
    "    for name in variable_names:\n",
    "        df[name] = pd.to_datetime(df[name])\n",
    "    return df"
   ]
  },
  {
   "cell_type": "code",
   "execution_count": 19,
   "metadata": {},
   "outputs": [
    {
     "name": "stdout",
     "output_type": "stream",
     "text": [
      "Done\n"
     ]
    }
   ],
   "source": [
    "test_data = data_to_datetime(test_data)\n",
    "\n",
    "for index, row in test_data.iterrows():\n",
    "    unique_dates = get_unique_dates([row['piezo_measurement_date'], row['meteo_date'], row['hydro_observation_date_elab']])\n",
    "    if len(unique_dates) > 1:\n",
    "        print(f\"Multiple dates at row {index}: {unique_dates}\")\n",
    "print(\"Done\")"
   ]
  },
  {
   "cell_type": "markdown",
   "metadata": {},
   "source": [
    "## > No incoherent dates in test set"
   ]
  }
 ],
 "metadata": {
  "kernelspec": {
   "display_name": "map",
   "language": "python",
   "name": "python3"
  },
  "language_info": {
   "codemirror_mode": {
    "name": "ipython",
    "version": 3
   },
   "file_extension": ".py",
   "mimetype": "text/x-python",
   "name": "python",
   "nbconvert_exporter": "python",
   "pygments_lexer": "ipython3",
   "version": "3.11.10"
  }
 },
 "nbformat": 4,
 "nbformat_minor": 2
}
